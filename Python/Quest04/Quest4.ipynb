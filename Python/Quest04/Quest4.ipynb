{
  "nbformat": 4,
  "nbformat_minor": 0,
  "metadata": {
    "colab": {
      "provenance": [],
      "authorship_tag": "ABX9TyNT2WrgKq6MfgDgHetbtPxc",
      "include_colab_link": true
    },
    "kernelspec": {
      "name": "python3",
      "display_name": "Python 3"
    },
    "language_info": {
      "name": "python"
    }
  },
  "cells": [
    {
      "cell_type": "markdown",
      "metadata": {
        "id": "view-in-github",
        "colab_type": "text"
      },
      "source": [
        "<a href=\"https://colab.research.google.com/github/SONHONGRYONG/AIFFEL_quest_cr/blob/main/Python/Quest04/Quest4.ipynb\" target=\"_parent\"><img src=\"https://colab.research.google.com/assets/colab-badge.svg\" alt=\"Open In Colab\"/></a>"
      ]
    },
    {
      "cell_type": "code",
      "execution_count": null,
      "metadata": {
        "colab": {
          "base_uri": "https://localhost:8080/"
        },
        "id": "W8X4mGjk0D1d",
        "outputId": "88e44ca6-85bb-4c4f-977b-3f2c1b054f7c"
      },
      "outputs": [
        {
          "output_type": "stream",
          "name": "stdout",
          "text": [
            "지금부터 계산을 시작한다.\n"
          ]
        }
      ],
      "source": [
        "import math\n",
        "\n",
        "while True:\n",
        "  print('지금부터 계산을 시작한다.')\n",
        "  try:\n",
        "    su1 = int(input(\"정수 적어보소\"))\n",
        "  except ValueError:\n",
        "    print(\"정수 뭔지 모르냐.\")\n",
        "    continue\n",
        "\n",
        "  cal = input(\"+,-,/,*,** 중에 원하는 계산부호 적어보소:\")\n",
        "  if cal not in ['+','-','*','/','**']:\n",
        "    print(\"없는거 넣지 말고야.\")\n",
        "    print(\"너 수학 안배웟냐아~~\")\n",
        "    continue\n",
        "\n",
        "  try:\n",
        "    su2 = int(input(\"두 번째 정수 적어보소\"))\n",
        "  except ValueError:\n",
        "    print(\"정수야 정수라고야!!.\")\n",
        "    print(\"또 틀리믄 너는 14급 15급 공무원 해야돼\")\n",
        "    continue\n",
        "\n",
        "  try:\n",
        "    if cal == '+':\n",
        "      result = su1 + su2\n",
        "    elif cal =='-':\n",
        "      result = su1 - su2\n",
        "    elif cal =='*':\n",
        "      result = su1 * su2\n",
        "    elif cal =='/':\n",
        "      result = su1 / su2\n",
        "    elif cal == '**':\n",
        "      result = su1 ** su2\n",
        "    print(f\"이거맞지?? {result}\")\n",
        "  except ZeroDivisionError:\n",
        "    print(\"0으로 나눌순 없제~ 다시!.\")\n",
        "    continue\n",
        "\n",
        "  continue_ok = input(\"계속 문제 내볼래?(yes, 그래, 좋아, y 외에는 기각이다.)\")\n",
        "  if continue_ok == \"yes\":\n",
        "    continue\n",
        "  elif continue_ok ==\"그래\":\n",
        "    continue\n",
        "  elif continue_ok ==\"좋아\":\n",
        "    continue\n",
        "  elif continue_ok ==\"y\":\n",
        "    continue\n",
        "\n",
        "  else:\n",
        "    print(\"계산 끝! 잘가고~~.\")\n",
        "    break"
      ]
    }
  ]
}