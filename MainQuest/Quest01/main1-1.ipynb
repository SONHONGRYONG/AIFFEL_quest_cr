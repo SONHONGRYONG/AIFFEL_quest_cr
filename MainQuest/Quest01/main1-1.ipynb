{
  "nbformat": 4,
  "nbformat_minor": 0,
  "metadata": {
    "colab": {
      "provenance": [],
      "authorship_tag": "ABX9TyPe/PkmdLEdxV5dPDXXgCEi",
      "include_colab_link": true
    },
    "kernelspec": {
      "name": "python3",
      "display_name": "Python 3"
    },
    "language_info": {
      "name": "python"
    }
  },
  "cells": [
    {
      "cell_type": "markdown",
      "metadata": {
        "id": "view-in-github",
        "colab_type": "text"
      },
      "source": [
        "<a href=\"https://colab.research.google.com/github/SONHONGRYONG/AIFFEL_quest_cr/blob/main/MainQuest/Quest01/main1-1.ipynb\" target=\"_parent\"><img src=\"https://colab.research.google.com/assets/colab-badge.svg\" alt=\"Open In Colab\"/></a>"
      ]
    },
    {
      "cell_type": "code",
      "execution_count": 152,
      "metadata": {
        "id": "TcnwlYTNIJg6"
      },
      "outputs": [],
      "source": [
        "import random\n",
        "\n",
        "class Account:\n",
        "    # 클래스 변수: 생성된 계좌수\n",
        "    account_count = 0\n",
        "\n",
        "    def __init__(self, account_holder, initial_balance):\n",
        "        # 은행 이름은 스위스 산꼴짝의 조직 전문은행으로 고정\n",
        "        self.bank_name = \"스위스 산꼴짝의 조직 전문은행\"\n",
        "        self.account_holder = account_holder\n",
        "        self.balance = initial_balance\n",
        "        # 계좌번호는 3자리-2자리-6자리 형태로 랜덤 생성\n",
        "        self.account_number = f\"{random.randint(100, 999)}-{random.randint(10, 99)}-{random.randint(100000, 999999)}\"\n",
        "        # 입금 횟수는 0으로 초기화\n",
        "        self.deposit_count = 0\n",
        "        # 입출금 내역을 기록하기 위한 리스트\n",
        "        self.deposit_history_list = []\n",
        "        self.withdraw_history_list = []\n",
        "\n",
        "        # 계좌가 생성될 때마다 account_count 증가\n",
        "        Account.account_count += 1\n",
        "\n",
        "    @classmethod\n",
        "    def get_account_num(cls):\n",
        "        # 클래스 변수 account_count 출력\n",
        "        return cls.account_count\n",
        "\n",
        "    def deposit(self, amount):\n",
        "        # 입금 금액은 최소 1원 이상이어야 한다.\n",
        "        if amount >= 1:\n",
        "            self.balance += amount\n",
        "            self.deposit_count += 1\n",
        "            self.deposit_history_list.append(f\"입금 {amount:,.0f}원, 잔고 {self.balance:,.0f}원\")\n",
        "\n",
        "            # 입금 횟수가 5회가 되면 이자 지급\n",
        "            if self.deposit_count == 5:\n",
        "                interest = self.balance * 0.01  # 1% 이자 추가\n",
        "                self.balance += interest\n",
        "                self.deposit_history_list.append(f\"이자 지급 {interest:,.0f}원, 잔고 {self.balance:,.0f}원\")\n",
        "\n",
        "        else:\n",
        "            print(\"입금 금액은 최소 1원 이상이어야 합니다.\")\n",
        "\n",
        "    def withdraw(self, amount):\n",
        "        # 출금 금액은 잔고 이상으로 출금할 수 없다.\n",
        "        if amount <= self.balance:\n",
        "            self.balance -= amount\n",
        "            self.withdraw_history_list.append(f\"출금 {amount}원, 잔고 {self.balance:,.0f}원\")\n",
        "        else:\n",
        "            print(f\"{self.account_holder}님의 잔고가 부족하여 출금할 수 없습니다.\")\n",
        "\n",
        "    def display_info(self):\n",
        "        # 계좌 정보를 출력, 잔고는 세자리마다 쉼표를 출력\n",
        "        print(f\"은행이름: {self.bank_name}, 예금주: {self.account_holder}, \"\n",
        "              f\"계좌번호: {self.account_number}, 잔고: {self.balance:,.0f}원\")\n",
        "\n",
        "    def deposit_history(self):\n",
        "        # 입금 내역 출력\n",
        "        print(f\"{self.account_holder}님의 입금 내역입니다.\")\n",
        "        for entry in self.deposit_history_list:\n",
        "            print(entry)\n",
        "\n",
        "    def withdraw_history(self):\n",
        "        # 출금 내역 출력\n",
        "        print(f\"{self.account_holder}님의 출금 내역입니다.\")\n",
        "        for entry in self.withdraw_history_list:\n",
        "            print(entry)\n"
      ]
    },
    {
      "cell_type": "code",
      "source": [
        "accounts = [\n",
        "    Account(\"갱스터yb\", 10000000),\n",
        "    Account(\"마피아je\", 20000000),\n",
        "    Account(\"야쿠자es\", 15000000)\n",
        "]\n",
        "\n",
        "# 5회 입금 후 이자 지급 및 돈세탁을 위한 출금\n",
        "accounts[0].deposit(1000000)\n",
        "accounts[0].deposit(2000000)\n",
        "accounts[0].deposit(3000000)\n",
        "accounts[0].deposit(4000000)\n",
        "accounts[0].deposit(5000000)  # 이자 지급이 발생\n",
        "accounts[0].withdraw(3000000)\n",
        "accounts[0].withdraw(4000000)\n",
        "\n",
        "accounts[1].deposit(1000000)\n",
        "accounts[1].deposit(2000000)\n",
        "accounts[1].deposit(3000000)\n",
        "accounts[1].deposit(4000000)\n",
        "accounts[1].deposit(5000000)  # 이자 지급이 발생\n",
        "accounts[1].withdraw(4000000)\n",
        "accounts[1].withdraw(5000000)\n",
        "\n",
        "accounts[2].deposit(1000000)\n",
        "accounts[2].deposit(2000000)\n",
        "accounts[2].deposit(3000000)\n",
        "accounts[2].deposit(4000000)\n",
        "accounts[2].deposit(5000000)  # 이자 지급이 발생\n",
        "accounts[2].withdraw(4000000)\n",
        "accounts[2].withdraw(5000000)\n"
      ],
      "metadata": {
        "id": "kuliszqATp3u"
      },
      "execution_count": 153,
      "outputs": []
    },
    {
      "cell_type": "code",
      "source": [
        "#야쿠자의 잔액부족 출금실패\n",
        "accounts[2].withdraw(99999999999)\n",
        "\n",
        "\n"
      ],
      "metadata": {
        "colab": {
          "base_uri": "https://localhost:8080/"
        },
        "id": "Z8h1FoClVHZd",
        "outputId": "acb837c2-299c-48ce-8a4f-851017501ed8"
      },
      "execution_count": 154,
      "outputs": [
        {
          "output_type": "stream",
          "name": "stdout",
          "text": [
            "야쿠자es님의 잔고가 부족하여 출금할 수 없습니다.\n"
          ]
        }
      ]
    },
    {
      "cell_type": "code",
      "source": [
        "# 입금 내역과 출금 내역 출력1\n",
        "accounts[0].deposit_history()\n",
        "accounts[0].withdraw_history()\n",
        "\n"
      ],
      "metadata": {
        "colab": {
          "base_uri": "https://localhost:8080/"
        },
        "id": "nqM5Nz-fVJZW",
        "outputId": "01b9e2c8-61ef-4452-9899-08f9ea02dc0d"
      },
      "execution_count": 155,
      "outputs": [
        {
          "output_type": "stream",
          "name": "stdout",
          "text": [
            "갱스터yb님의 입금 내역입니다.\n",
            "입금 1,000,000원, 잔고 11,000,000원\n",
            "입금 2,000,000원, 잔고 13,000,000원\n",
            "입금 3,000,000원, 잔고 16,000,000원\n",
            "입금 4,000,000원, 잔고 20,000,000원\n",
            "입금 5,000,000원, 잔고 25,000,000원\n",
            "이자 지급 250,000원, 잔고 25,250,000원\n",
            "갱스터yb님의 출금 내역입니다.\n",
            "출금 3000000원, 잔고 22,250,000원\n",
            "출금 4000000원, 잔고 18,250,000원\n"
          ]
        }
      ]
    },
    {
      "cell_type": "code",
      "source": [
        "# 입금 내역과 출금 내역 출력2\n",
        "\n",
        "accounts[1].deposit_history()\n",
        "accounts[1].withdraw_history()\n",
        "\n"
      ],
      "metadata": {
        "colab": {
          "base_uri": "https://localhost:8080/"
        },
        "id": "qClWoNtCWV_N",
        "outputId": "c8b1d77e-8a26-457f-e0bc-847fc0fb0865"
      },
      "execution_count": 156,
      "outputs": [
        {
          "output_type": "stream",
          "name": "stdout",
          "text": [
            "마피아je님의 입금 내역입니다.\n",
            "입금 1,000,000원, 잔고 21,000,000원\n",
            "입금 2,000,000원, 잔고 23,000,000원\n",
            "입금 3,000,000원, 잔고 26,000,000원\n",
            "입금 4,000,000원, 잔고 30,000,000원\n",
            "입금 5,000,000원, 잔고 35,000,000원\n",
            "이자 지급 350,000원, 잔고 35,350,000원\n",
            "마피아je님의 출금 내역입니다.\n",
            "출금 4000000원, 잔고 31,350,000원\n",
            "출금 5000000원, 잔고 26,350,000원\n"
          ]
        }
      ]
    },
    {
      "cell_type": "code",
      "source": [
        "# 입금 내역과 출금 내역 출력3\n",
        "\n",
        "accounts[2].deposit_history()\n",
        "accounts[2].withdraw_history()\n",
        "\n"
      ],
      "metadata": {
        "colab": {
          "base_uri": "https://localhost:8080/"
        },
        "id": "OkrYLRgnWY_W",
        "outputId": "3d4d62e4-01f7-4d91-f50d-53d2244bad22"
      },
      "execution_count": 157,
      "outputs": [
        {
          "output_type": "stream",
          "name": "stdout",
          "text": [
            "야쿠자es님의 입금 내역입니다.\n",
            "입금 1,000,000원, 잔고 16,000,000원\n",
            "입금 2,000,000원, 잔고 18,000,000원\n",
            "입금 3,000,000원, 잔고 21,000,000원\n",
            "입금 4,000,000원, 잔고 25,000,000원\n",
            "입금 5,000,000원, 잔고 30,000,000원\n",
            "이자 지급 300,000원, 잔고 30,300,000원\n",
            "야쿠자es님의 출금 내역입니다.\n",
            "출금 4000000원, 잔고 26,300,000원\n",
            "출금 5000000원, 잔고 21,300,000원\n"
          ]
        }
      ]
    },
    {
      "cell_type": "code",
      "source": [
        "# 계좌 개수 출력\n",
        "print(f\"현재 계좌 개수: {Account.get_account_num()}\")\n",
        "\n"
      ],
      "metadata": {
        "colab": {
          "base_uri": "https://localhost:8080/"
        },
        "id": "eqkoD2HfWbmI",
        "outputId": "e67a730a-ef0f-438a-d290-0c5030b0cba3"
      },
      "execution_count": 158,
      "outputs": [
        {
          "output_type": "stream",
          "name": "stdout",
          "text": [
            "현재 계좌 개수: 3\n"
          ]
        }
      ]
    },
    {
      "cell_type": "code",
      "source": [
        "# 잔고가 100만원 이상인 고객 정보 출력\n",
        "print(\"\\n잔고 100만원 이상인 고객 정보:\")\n",
        "for account in accounts:\n",
        "    if account.balance >= 1000000:\n",
        "        account.display_info()"
      ],
      "metadata": {
        "colab": {
          "base_uri": "https://localhost:8080/"
        },
        "id": "1yANr1xyWcyS",
        "outputId": "9b7edac7-404a-42f1-b1a2-43792c463ab1"
      },
      "execution_count": 159,
      "outputs": [
        {
          "output_type": "stream",
          "name": "stdout",
          "text": [
            "\n",
            "잔고 100만원 이상인 고객 정보:\n",
            "은행이름: 스위스 산꼴짝의 조직 전문은행, 예금주: 갱스터yb, 계좌번호: 931-44-742595, 잔고: 18,250,000원\n",
            "은행이름: 스위스 산꼴짝의 조직 전문은행, 예금주: 마피아je, 계좌번호: 322-24-845653, 잔고: 26,350,000원\n",
            "은행이름: 스위스 산꼴짝의 조직 전문은행, 예금주: 야쿠자es, 계좌번호: 779-83-782240, 잔고: 21,300,000원\n"
          ]
        }
      ]
    }
  ]
}
